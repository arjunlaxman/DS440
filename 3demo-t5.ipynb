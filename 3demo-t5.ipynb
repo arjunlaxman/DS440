{
 "cells": [
  {
   "cell_type": "code",
   "execution_count": 21,
   "metadata": {},
   "outputs": [
    {
     "name": "stdout",
     "output_type": "stream",
     "text": [
      "CUDA available: True\n",
      "GPU detected: NVIDIA GeForce RTX 4090 Laptop GPU\n"
     ]
    }
   ],
   "source": [
    "import torch\n",
    "\n",
    "print(\"CUDA available:\", torch.cuda.is_available())\n",
    "if torch.cuda.is_available():\n",
    "    print(\"GPU detected:\", torch.cuda.get_device_name(0))\n",
    "else:\n",
    "    print(\"⚠️ No GPU detected.\")\n"
   ]
  },
  {
   "cell_type": "markdown",
   "metadata": {},
   "source": [
    "# Imports"
   ]
  },
  {
   "cell_type": "code",
   "execution_count": 22,
   "metadata": {},
   "outputs": [],
   "source": [
    "import os\n",
    "import pandas as pd\n",
    "import torch\n",
    "import gc\n",
    "from torch.utils.data import Dataset\n",
    "from transformers import RobertaTokenizer, RobertaForSequenceClassification, Trainer, TrainingArguments, EarlyStoppingCallback, AutoTokenizer, AutoModelForSequenceClassification\n",
    "from sklearn.model_selection import train_test_split\n",
    "from tqdm import tqdm\n",
    "from sklearn.metrics import accuracy_score, f1_score, precision_score, recall_score, classification_report\n",
    "from torch.nn.functional import softmax\n",
    "import numpy as np\n"
   ]
  },
  {
   "cell_type": "markdown",
   "metadata": {},
   "source": [
    "# Data Prep"
   ]
  },
  {
   "cell_type": "code",
   "execution_count": 23,
   "metadata": {},
   "outputs": [
    {
     "name": "stderr",
     "output_type": "stream",
     "text": [
      "Loading Solidity files: 100%|██████████| 19456/19456 [00:01<00:00, 9916.47it/s] \n"
     ]
    }
   ],
   "source": [
    "df = pd.read_csv(\"cgt-main/consolidated.csv\", sep=\";\")\n",
    "\n",
    "# check solidity exist, remove \"nan\" value\n",
    "def has_source(fp_sol):\n",
    "    sol_path = os.path.join(r\"D:\\new440\\cgt-main\\source\", f\"{fp_sol}.sol\")\n",
    "    return os.path.isfile(sol_path)\n",
    "\n",
    "df = df[df[\"fp_sol\"].apply(has_source)]\n",
    "\n",
    "# transfer property_holds to label： \"t\" -> 1， \"f\" -> 0\n",
    "df = df[df['property_holds'].isin(['t', 'f'])]\n",
    "df['label'] = df['property_holds'].map({'t': 1, 'f': 0})\n",
    "\n",
    "# read Solidity Source code, sol as txt\n",
    "def read_source(fp_sol):\n",
    "    sol_path = os.path.join(r\"D:\\new440\\cgt-main\\source\", f\"{fp_sol}.sol\")\n",
    "    try:\n",
    "        with open(sol_path, \"r\", encoding=\"utf-8\") as f:\n",
    "            return f.read()\n",
    "    except FileNotFoundError:\n",
    "        print(f\"file {sol_path} missing, continue\")\n",
    "        return \"\"\n",
    "\n",
    "df['code'] = df['fp_sol'].apply(read_source)\n",
    "\n",
    "# filter \"nan\" out，select code and label\n",
    "data = df.dropna(subset=['code', 'label'])\n",
    "data = data[data['code'] != \"\"]\n",
    "solidity_data = []\n",
    "for _, row in tqdm(data.iterrows(), total=len(data), desc=\"Loading Solidity files\"):\n",
    "    fp_sol = row[\"fp_sol\"]\n",
    "    sol_path = os.path.join(\"cgt-main\", \"source\", f\"{fp_sol}.sol\")\n",
    "    try:\n",
    "        with open(sol_path, \"r\", encoding=\"utf-8\") as f:\n",
    "            code = f.read()\n",
    "        solidity_data.append({\n",
    "            \"contract_name\": row[\"contractname\"],\n",
    "            \"code\": code,\n",
    "            \"bug_type\": row[\"property\"],\n",
    "            \"swc_id\": row[\"swc\"],\n",
    "            \"dasp_id\": row[\"dasp\"]\n",
    "        })\n",
    "    except FileNotFoundError:\n",
    "        pass\n",
    "        \n",
    "# JSON file saved\n",
    "df_solidity = pd.DataFrame(solidity_data)\n",
    "df_solidity.to_json(\"aaaaa.json\", indent=4)\n",
    "\n",
    "# train-validate separate\n",
    "train_texts, val_texts, train_labels, val_labels = train_test_split(\n",
    "    data['code'].tolist(), data['label'].tolist(), test_size=0.2, random_state=42\n",
    ")\n",
    "\n",
    "\n",
    "def compute_metrics(eval_pred):\n",
    "    logits, labels = eval_pred\n",
    "    predictions = logits.argmax(axis=-1)\n",
    "    return {\n",
    "        \"accuracy\": accuracy_score(labels, predictions)\n",
    "    }\n",
    "\n",
    "\n",
    "# define PyTorch Dataset class\n",
    "class SolidityDataset(Dataset):\n",
    "    def __init__(self, texts, labels, tokenizer, max_length=512):\n",
    "        self.texts = texts\n",
    "        self.labels = labels\n",
    "        self.tokenizer = tokenizer\n",
    "        self.max_length = max_length\n",
    "\n",
    "    def __len__(self):\n",
    "        return len(self.texts)\n",
    "    \n",
    "    def __getitem__(self, idx):\n",
    "        text = self.texts[idx]\n",
    "        # auto cut code lenth\n",
    "        encoding = self.tokenizer(\n",
    "            text,\n",
    "            truncation=True,\n",
    "            padding='max_length',\n",
    "            max_length=self.max_length,\n",
    "            return_tensors=\"pt\"\n",
    "        )\n",
    "        item = {key: val.squeeze(0) for key, val in encoding.items()}\n",
    "        item['labels'] = torch.tensor(self.labels[idx], dtype=torch.long)\n",
    "        return item\n",
    "    \n",
    "# Define weighted loss inside a custom Trainer\n",
    "class WeightedTrainer(Trainer):\n",
    "    def compute_loss(self, model, inputs, return_outputs=False, **kwargs):\n",
    "        labels = inputs.get(\"labels\")\n",
    "        outputs = model(**inputs)\n",
    "        logits = outputs.get(\"logits\")\n",
    "\n",
    "        # Manually set class weights here\n",
    "        weight = torch.tensor([1.0, 2.5]).to(logits.device)\n",
    "        loss_fct = torch.nn.CrossEntropyLoss(weight=weight)\n",
    "        loss = loss_fct(logits, labels)\n",
    "\n",
    "        return (loss, outputs) if return_outputs else loss\n"
   ]
  },
  {
   "cell_type": "markdown",
   "metadata": {},
   "source": [
    "# CodeBERT"
   ]
  },
  {
   "cell_type": "code",
   "execution_count": 28,
   "metadata": {},
   "outputs": [
    {
     "name": "stderr",
     "output_type": "stream",
     "text": [
      "Some weights of RobertaForSequenceClassification were not initialized from the model checkpoint at microsoft/codebert-base and are newly initialized: ['classifier.dense.bias', 'classifier.dense.weight', 'classifier.out_proj.bias', 'classifier.out_proj.weight']\n",
      "You should probably TRAIN this model on a down-stream task to be able to use it for predictions and inference.\n"
     ]
    },
    {
     "data": {
      "text/html": [
       "\n",
       "    <div>\n",
       "      \n",
       "      <progress value='9000' max='11673' style='width:300px; height:20px; vertical-align: middle;'></progress>\n",
       "      [ 9000/11673 19:50 < 05:53, 7.56 it/s, Epoch 2/3]\n",
       "    </div>\n",
       "    <table border=\"1\" class=\"dataframe\">\n",
       "  <thead>\n",
       " <tr style=\"text-align: left;\">\n",
       "      <th>Step</th>\n",
       "      <th>Training Loss</th>\n",
       "      <th>Validation Loss</th>\n",
       "      <th>Accuracy</th>\n",
       "    </tr>\n",
       "  </thead>\n",
       "  <tbody>\n",
       "    <tr>\n",
       "      <td>1000</td>\n",
       "      <td>0.695400</td>\n",
       "      <td>0.664312</td>\n",
       "      <td>0.652621</td>\n",
       "    </tr>\n",
       "    <tr>\n",
       "      <td>2000</td>\n",
       "      <td>0.668900</td>\n",
       "      <td>0.644885</td>\n",
       "      <td>0.615365</td>\n",
       "    </tr>\n",
       "    <tr>\n",
       "      <td>3000</td>\n",
       "      <td>0.664500</td>\n",
       "      <td>0.623435</td>\n",
       "      <td>0.699383</td>\n",
       "    </tr>\n",
       "    <tr>\n",
       "      <td>4000</td>\n",
       "      <td>0.617300</td>\n",
       "      <td>0.730574</td>\n",
       "      <td>0.729959</td>\n",
       "    </tr>\n",
       "    <tr>\n",
       "      <td>5000</td>\n",
       "      <td>0.634800</td>\n",
       "      <td>0.681392</td>\n",
       "      <td>0.741007</td>\n",
       "    </tr>\n",
       "    <tr>\n",
       "      <td>6000</td>\n",
       "      <td>0.664800</td>\n",
       "      <td>0.625305</td>\n",
       "      <td>0.743063</td>\n",
       "    </tr>\n",
       "    <tr>\n",
       "      <td>7000</td>\n",
       "      <td>0.661400</td>\n",
       "      <td>0.928683</td>\n",
       "      <td>0.744604</td>\n",
       "    </tr>\n",
       "    <tr>\n",
       "      <td>8000</td>\n",
       "      <td>0.648200</td>\n",
       "      <td>0.626905</td>\n",
       "      <td>0.720195</td>\n",
       "    </tr>\n",
       "    <tr>\n",
       "      <td>9000</td>\n",
       "      <td>0.626000</td>\n",
       "      <td>0.647710</td>\n",
       "      <td>0.721737</td>\n",
       "    </tr>\n",
       "  </tbody>\n",
       "</table><p>"
      ],
      "text/plain": [
       "<IPython.core.display.HTML object>"
      ]
     },
     "metadata": {},
     "output_type": "display_data"
    },
    {
     "data": {
      "text/html": [],
      "text/plain": [
       "<IPython.core.display.HTML object>"
      ]
     },
     "metadata": {},
     "output_type": "display_data"
    },
    {
     "data": {
      "text/html": [],
      "text/plain": [
       "<IPython.core.display.HTML object>"
      ]
     },
     "metadata": {},
     "output_type": "display_data"
    },
    {
     "name": "stdout",
     "output_type": "stream",
     "text": [
      "Evaluation results: {'eval_loss': 0.9286831021308899, 'eval_accuracy': 0.7446043165467626, 'eval_runtime': 40.8803, 'eval_samples_per_second': 95.205, 'eval_steps_per_second': 23.801, 'epoch': 2.3130300693909023}\n"
     ]
    }
   ],
   "source": [
    "# load CodeBERT tokenizer and model form（microsoft/codebert-base）\n",
    "model_name = \"microsoft/codebert-base\"\n",
    "tokenizer = RobertaTokenizer.from_pretrained(model_name)\n",
    "model = RobertaForSequenceClassification.from_pretrained(model_name, num_labels=2)\n",
    "\n",
    "# !!!!!!!!!!!!!!!!!!!!!!! need further explore\n",
    "train_dataset = SolidityDataset(train_texts, train_labels, tokenizer)\n",
    "val_dataset = SolidityDataset(val_texts, val_labels, tokenizer)\n",
    "\n",
    "# Trainer define and tune\n",
    "training_args = TrainingArguments(\n",
    "    output_dir=\"./codebert-finetuned\",  \n",
    "    num_train_epochs=3,\n",
    "    per_device_train_batch_size=4,\n",
    "    per_device_eval_batch_size=4,\n",
    "    evaluation_strategy=\"steps\",\n",
    "    eval_steps=1000,\n",
    "    save_steps=1000,\n",
    "    warmup_steps=100,\n",
    "    weight_decay=0.01,\n",
    "    learning_rate=2e-5,\n",
    "    logging_dir='./logs',\n",
    "    logging_steps=100,\n",
    "    save_total_limit=2,\n",
    "    disable_tqdm=False,\n",
    "    load_best_model_at_end=True,\n",
    "    metric_for_best_model=\"eval_accuracy\",\n",
    "    greater_is_better=True\n",
    ")\n",
    "\n",
    "trainer = WeightedTrainer(\n",
    "    model=model,\n",
    "    args=training_args,\n",
    "    train_dataset=train_dataset,\n",
    "    eval_dataset=val_dataset,\n",
    "    compute_metrics=compute_metrics,\n",
    "    callbacks=[EarlyStoppingCallback(early_stopping_patience=2)]\n",
    ")\n",
    "\n",
    "device = torch.device(\"cuda\" if torch.cuda.is_available() else \"cpu\")\n",
    "model.to(device)\n",
    "\n",
    "# TRAINING\n",
    "trainer.train()\n",
    "\n",
    "predictions = trainer.predict(val_dataset)\n",
    "\n",
    "# Show result\n",
    "eval_result = trainer.evaluate()\n",
    "print(\"Evaluation results:\", eval_result)"
   ]
  },
  {
   "cell_type": "code",
   "execution_count": 29,
   "metadata": {},
   "outputs": [
    {
     "name": "stdout",
     "output_type": "stream",
     "text": [
      "              precision    recall  f1-score   support\n",
      "\n",
      "           0       0.77      0.92      0.84      2825\n",
      "           1       0.57      0.29      0.39      1067\n",
      "\n",
      "    accuracy                           0.74      3892\n",
      "   macro avg       0.67      0.60      0.61      3892\n",
      "weighted avg       0.72      0.74      0.71      3892\n",
      "\n"
     ]
    }
   ],
   "source": [
    "predictions = trainer.predict(val_dataset)\n",
    "preds = predictions.predictions.argmax(axis=-1)\n",
    "true_labels = predictions.label_ids\n",
    "\n",
    "# Generate classification report\n",
    "report = classification_report(true_labels, preds)\n",
    "print(report)"
   ]
  },
  {
   "cell_type": "markdown",
   "metadata": {},
   "source": [
    "# GraphCodeBert"
   ]
  },
  {
   "cell_type": "code",
   "execution_count": 12,
   "metadata": {},
   "outputs": [
    {
     "name": "stderr",
     "output_type": "stream",
     "text": [
      "Some weights of RobertaForSequenceClassification were not initialized from the model checkpoint at microsoft/graphcodebert-base and are newly initialized: ['classifier.dense.bias', 'classifier.dense.weight', 'classifier.out_proj.bias', 'classifier.out_proj.weight']\n",
      "You should probably TRAIN this model on a down-stream task to be able to use it for predictions and inference.\n"
     ]
    },
    {
     "data": {
      "text/html": [
       "\n",
       "    <div>\n",
       "      \n",
       "      <progress value='2919' max='2919' style='width:300px; height:20px; vertical-align: middle;'></progress>\n",
       "      [2919/2919 17:12, Epoch 3/3]\n",
       "    </div>\n",
       "    <table border=\"1\" class=\"dataframe\">\n",
       "  <thead>\n",
       " <tr style=\"text-align: left;\">\n",
       "      <th>Step</th>\n",
       "      <th>Training Loss</th>\n",
       "      <th>Validation Loss</th>\n",
       "      <th>Accuracy</th>\n",
       "    </tr>\n",
       "  </thead>\n",
       "  <tbody>\n",
       "    <tr>\n",
       "      <td>500</td>\n",
       "      <td>0.657100</td>\n",
       "      <td>0.646285</td>\n",
       "      <td>0.561665</td>\n",
       "    </tr>\n",
       "    <tr>\n",
       "      <td>1000</td>\n",
       "      <td>0.636900</td>\n",
       "      <td>0.642249</td>\n",
       "      <td>0.700925</td>\n",
       "    </tr>\n",
       "    <tr>\n",
       "      <td>1500</td>\n",
       "      <td>0.642200</td>\n",
       "      <td>0.622176</td>\n",
       "      <td>0.670092</td>\n",
       "    </tr>\n",
       "    <tr>\n",
       "      <td>2000</td>\n",
       "      <td>0.643200</td>\n",
       "      <td>0.623613</td>\n",
       "      <td>0.717112</td>\n",
       "    </tr>\n",
       "    <tr>\n",
       "      <td>2500</td>\n",
       "      <td>0.595900</td>\n",
       "      <td>0.655784</td>\n",
       "      <td>0.702980</td>\n",
       "    </tr>\n",
       "  </tbody>\n",
       "</table><p>"
      ],
      "text/plain": [
       "<IPython.core.display.HTML object>"
      ]
     },
     "metadata": {},
     "output_type": "display_data"
    },
    {
     "data": {
      "text/html": [],
      "text/plain": [
       "<IPython.core.display.HTML object>"
      ]
     },
     "metadata": {},
     "output_type": "display_data"
    },
    {
     "data": {
      "text/html": [
       "\n",
       "    <div>\n",
       "      \n",
       "      <progress value='244' max='244' style='width:300px; height:20px; vertical-align: middle;'></progress>\n",
       "      [244/244 00:37]\n",
       "    </div>\n",
       "    "
      ],
      "text/plain": [
       "<IPython.core.display.HTML object>"
      ]
     },
     "metadata": {},
     "output_type": "display_data"
    },
    {
     "name": "stdout",
     "output_type": "stream",
     "text": [
      "GraphCodeBERT Eval: {'eval_loss': 0.6236129403114319, 'eval_accuracy': 0.7171120246659815, 'eval_runtime': 37.7259, 'eval_samples_per_second': 103.165, 'eval_steps_per_second': 6.468, 'epoch': 3.0}\n"
     ]
    }
   ],
   "source": [
    "\n",
    "# Load tokenizer and model\n",
    "model_name_gcb = \"microsoft/graphcodebert-base\"\n",
    "tokenizer_gcb = RobertaTokenizer.from_pretrained(model_name_gcb)\n",
    "model_gcb = RobertaForSequenceClassification.from_pretrained(model_name_gcb, num_labels=2)\n",
    "\n",
    "# Dataset\n",
    "train_dataset_gcb = SolidityDataset(train_texts, train_labels, tokenizer_gcb)\n",
    "val_dataset_gcb = SolidityDataset(val_texts, val_labels, tokenizer_gcb)\n",
    "\n",
    "# TrainingArguments\n",
    "training_args_gcb = TrainingArguments(\n",
    "    output_dir=\"./graphcodebert-finetuned\",\n",
    "    num_train_epochs=3,\n",
    "    per_device_train_batch_size=16,\n",
    "    per_device_eval_batch_size=16,\n",
    "    evaluation_strategy=\"steps\",\n",
    "    eval_steps=500,\n",
    "    save_steps=500,\n",
    "    warmup_steps=100,\n",
    "    weight_decay=0.01,\n",
    "    learning_rate=2e-5,\n",
    "    logging_dir='./logs_gcb',\n",
    "    logging_steps=100,\n",
    "    save_total_limit=2,\n",
    "    disable_tqdm=False,\n",
    "    load_best_model_at_end=True,\n",
    "    metric_for_best_model=\"eval_accuracy\",\n",
    "    greater_is_better=True\n",
    ")\n",
    "\n",
    "\n",
    "# Trainer\n",
    "trainer_gcb = WeightedTrainer(\n",
    "    model=model_gcb,\n",
    "    args=training_args_gcb,\n",
    "    train_dataset=train_dataset_gcb,\n",
    "    eval_dataset=val_dataset_gcb,\n",
    "    compute_metrics=compute_metrics,\n",
    "    callbacks=[EarlyStoppingCallback(early_stopping_patience=2)]\n",
    ")\n",
    "\n",
    "device = torch.device(\"cuda\" if torch.cuda.is_available() else \"cpu\")\n",
    "model_gcb.to(device)\n",
    "trainer_gcb.train()\n",
    "predictions_gcb = trainer_gcb.predict(val_dataset_gcb)\n",
    "eval_result_gcb = trainer_gcb.evaluate()\n",
    "print(\"GraphCodeBERT Eval:\", eval_result_gcb)"
   ]
  },
  {
   "cell_type": "markdown",
   "metadata": {},
   "source": [
    "# CodeT5+"
   ]
  },
  {
   "cell_type": "code",
   "execution_count": 31,
   "metadata": {},
   "outputs": [
    {
     "name": "stderr",
     "output_type": "stream",
     "text": [
      "Some weights of T5ForSequenceClassification were not initialized from the model checkpoint at Salesforce/codet5-base and are newly initialized: ['classification_head.dense.bias', 'classification_head.dense.weight', 'classification_head.out_proj.bias', 'classification_head.out_proj.weight']\n",
      "You should probably TRAIN this model on a down-stream task to be able to use it for predictions and inference.\n"
     ]
    },
    {
     "data": {
      "text/html": [
       "\n",
       "    <div>\n",
       "      \n",
       "      <progress value='6000' max='11673' style='width:300px; height:20px; vertical-align: middle;'></progress>\n",
       "      [ 6000/11673 22:47 < 21:33, 4.39 it/s, Epoch 1/3]\n",
       "    </div>\n",
       "    <table border=\"1\" class=\"dataframe\">\n",
       "  <thead>\n",
       " <tr style=\"text-align: left;\">\n",
       "      <th>Step</th>\n",
       "      <th>Training Loss</th>\n",
       "      <th>Validation Loss</th>\n",
       "      <th>Accuracy</th>\n",
       "    </tr>\n",
       "  </thead>\n",
       "  <tbody>\n",
       "    <tr>\n",
       "      <td>1000</td>\n",
       "      <td>0.741400</td>\n",
       "      <td>0.727766</td>\n",
       "      <td>0.348000</td>\n",
       "    </tr>\n",
       "    <tr>\n",
       "      <td>2000</td>\n",
       "      <td>0.712300</td>\n",
       "      <td>0.708254</td>\n",
       "      <td>0.556000</td>\n",
       "    </tr>\n",
       "    <tr>\n",
       "      <td>3000</td>\n",
       "      <td>0.652100</td>\n",
       "      <td>0.641556</td>\n",
       "      <td>0.718000</td>\n",
       "    </tr>\n",
       "    <tr>\n",
       "      <td>4000</td>\n",
       "      <td>0.620300</td>\n",
       "      <td>0.665528</td>\n",
       "      <td>0.746000</td>\n",
       "    </tr>\n",
       "    <tr>\n",
       "      <td>5000</td>\n",
       "      <td>0.620400</td>\n",
       "      <td>0.645800</td>\n",
       "      <td>0.736000</td>\n",
       "    </tr>\n",
       "    <tr>\n",
       "      <td>6000</td>\n",
       "      <td>0.681200</td>\n",
       "      <td>0.632500</td>\n",
       "      <td>0.696000</td>\n",
       "    </tr>\n",
       "  </tbody>\n",
       "</table><p>"
      ],
      "text/plain": [
       "<IPython.core.display.HTML object>"
      ]
     },
     "metadata": {},
     "output_type": "display_data"
    },
    {
     "name": "stderr",
     "output_type": "stream",
     "text": [
      "There were missing keys in the checkpoint model loaded: ['transformer.encoder.embed_tokens.weight', 'transformer.decoder.embed_tokens.weight'].\n"
     ]
    },
    {
     "data": {
      "text/html": [],
      "text/plain": [
       "<IPython.core.display.HTML object>"
      ]
     },
     "metadata": {},
     "output_type": "display_data"
    },
    {
     "data": {
      "text/html": [
       "\n",
       "    <div>\n",
       "      \n",
       "      <progress value='125' max='125' style='width:300px; height:20px; vertical-align: middle;'></progress>\n",
       "      [125/125 00:09]\n",
       "    </div>\n",
       "    "
      ],
      "text/plain": [
       "<IPython.core.display.HTML object>"
      ]
     },
     "metadata": {},
     "output_type": "display_data"
    },
    {
     "name": "stdout",
     "output_type": "stream",
     "text": [
      "CodeT5+ Eval: {'eval_accuracy': 0.746, 'eval_loss': 0.6655176281929016, 'eval_runtime': 9.202, 'eval_samples_per_second': 54.336, 'eval_steps_per_second': 13.584, 'epoch': 1.5420200462606015}\n"
     ]
    }
   ],
   "source": [
    "# Clear CUDA cache\n",
    "torch.cuda.empty_cache()\n",
    "\n",
    "# Collect unused Python objects\n",
    "gc.collect()\n",
    "\n",
    "def compute_metrics(eval_pred):\n",
    "    if hasattr(eval_pred, \"predictions\"):\n",
    "        logits = eval_pred.predictions\n",
    "        labels = eval_pred.label_ids\n",
    "    else:\n",
    "        logits, labels = eval_pred\n",
    "    if isinstance(logits, (tuple, list)):\n",
    "        logits = logits[0]\n",
    "    if isinstance(logits, torch.Tensor):\n",
    "        logits = logits.detach().cpu().numpy()\n",
    "    if isinstance(labels, torch.Tensor):\n",
    "        labels = labels.detach().cpu().numpy()\n",
    "\n",
    "    preds = np.argmax(logits, axis=-1)\n",
    "    return {\"eval_accuracy\": accuracy_score(labels, preds)}\n",
    "\n",
    "# Load tokenizer and model\n",
    "# model_name_c5p = \"Salesforce/codet5p-770m\"\n",
    "model_name_c5p = \"Salesforce/codet5-base\"\n",
    "tokenizer_c5p = AutoTokenizer.from_pretrained(model_name_c5p)\n",
    "model_c5p = AutoModelForSequenceClassification.from_pretrained(model_name_c5p, num_labels=2)\n",
    "\n",
    "# Dataset\n",
    "train_dataset_c5p = SolidityDataset(train_texts, train_labels, tokenizer_c5p)\n",
    "val_dataset_c5p = SolidityDataset(val_texts, val_labels, tokenizer_c5p)\n",
    "\n",
    "from torch.utils.data import Subset\n",
    "val_dataset_small = Subset(val_dataset_c5p, range(500))\n",
    "\n",
    "# TrainingArguments\n",
    "training_args_c5p = TrainingArguments(\n",
    "    output_dir=\"./codet5p-finetuned\",\n",
    "    num_train_epochs=3,\n",
    "    fp16=True,\n",
    "    fp16_full_eval=True,\n",
    "    per_device_train_batch_size=4,\n",
    "    per_device_eval_batch_size=4,\n",
    "    evaluation_strategy=\"steps\",\n",
    "    eval_steps=1000,\n",
    "    eval_accumulation_steps=8, \n",
    "    save_steps=1000,\n",
    "    warmup_steps=100,\n",
    "    weight_decay=0.01,\n",
    "    learning_rate=2e-5,\n",
    "    logging_dir='./logs_c5p',\n",
    "    logging_steps=100,\n",
    "    save_total_limit=2,\n",
    "    disable_tqdm=False,\n",
    "    load_best_model_at_end=True,\n",
    "    metric_for_best_model=\"eval_accuracy\",\n",
    "    greater_is_better=True\n",
    ")\n",
    "\n",
    "# Trainer\n",
    "trainer_c5p = WeightedTrainer(\n",
    "    model=model_c5p,\n",
    "    args=training_args_c5p,\n",
    "    train_dataset=train_dataset_c5p,\n",
    "    eval_dataset=val_dataset_small, # faster to eval\n",
    "    compute_metrics=compute_metrics,\n",
    "    callbacks=[EarlyStoppingCallback(early_stopping_patience=2)]\n",
    ")\n",
    "\n",
    "device = torch.device(\"cuda\" if torch.cuda.is_available() else \"cpu\")\n",
    "model_c5p.to(device)\n",
    "trainer_c5p.train()\n",
    "\n",
    "predictions_c5p = trainer_c5p.predict(val_dataset_c5p)\n",
    "eval_result_c5p = trainer_c5p.evaluate()\n",
    "print(\"CodeT5+ Eval:\", eval_result_c5p)"
   ]
  }
 ],
 "metadata": {
  "kernelspec": {
   "display_name": ".venv",
   "language": "python",
   "name": "python3"
  },
  "language_info": {
   "codemirror_mode": {
    "name": "ipython",
    "version": 3
   },
   "file_extension": ".py",
   "mimetype": "text/x-python",
   "name": "python",
   "nbconvert_exporter": "python",
   "pygments_lexer": "ipython3",
   "version": "3.13.2"
  }
 },
 "nbformat": 4,
 "nbformat_minor": 2
}
