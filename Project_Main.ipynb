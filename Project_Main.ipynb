{
 "cells": [
  {
   "cell_type": "markdown",
   "metadata": {},
   "source": [
    "# Imports"
   ]
  },
  {
   "cell_type": "code",
   "execution_count": 10,
   "metadata": {},
   "outputs": [],
   "source": [
    "import os\n",
    "import requests\n",
    "import json\n",
    "import pandas as pd"
   ]
  },
  {
   "cell_type": "markdown",
   "metadata": {},
   "source": [
    "# Dataset Downloads"
   ]
  },
  {
   "cell_type": "code",
   "execution_count": 12,
   "metadata": {},
   "outputs": [],
   "source": [
    "# Set up directories for storing datasets\n",
    "DATA_DIR = \"smart_contract_data\"\n",
    "SOLIDIFI_DIR = os.path.join(DATA_DIR, \"solidifi\")\n",
    "SMARTBUGS_DIR = os.path.join(DATA_DIR, \"smartbugs\")\n",
    "ETHERSCAN_DIR = os.path.join(DATA_DIR, \"etherscan\")\n",
    "\n",
    "os.makedirs(SOLIDIFI_DIR, exist_ok=True)\n",
    "os.makedirs(SMARTBUGS_DIR, exist_ok=True)\n",
    "os.makedirs(ETHERSCAN_DIR, exist_ok=True)\n"
   ]
  },
  {
   "cell_type": "markdown",
   "metadata": {},
   "source": [
    "## SolidFi"
   ]
  },
  {
   "cell_type": "code",
   "execution_count": 14,
   "metadata": {},
   "outputs": [
    {
     "name": "stdout",
     "output_type": "stream",
     "text": [
      "SolidiFI dataset downloaded.\n"
     ]
    }
   ],
   "source": [
    "url = \"https://github.com/DependableSystemsLab/SolidiFI-benchmark/tree/master/buggy_contracts\"\n",
    "response = requests.get(url)\n",
    "if response.status_code == 200:\n",
    "    with open(os.path.join(SOLIDIFI_DIR, \"solidifi.json\"), \"w\") as f:\n",
    "        f.write(response.text)\n",
    "    print(\"SolidiFI dataset downloaded.\")\n",
    "else:\n",
    "    print(\"Failed to download SolidiFI dataset.\")"
   ]
  },
  {
   "cell_type": "markdown",
   "metadata": {},
   "source": [
    "## Smartbugs"
   ]
  },
  {
   "cell_type": "code",
   "execution_count": 16,
   "metadata": {},
   "outputs": [
    {
     "name": "stdout",
     "output_type": "stream",
     "text": [
      "SmartBugs dataset downloaded.\n"
     ]
    }
   ],
   "source": [
    "url = \"https://github.com/smartbugs/smartbugs-wild/tree/master/contracts\"\n",
    "response = requests.get(url)\n",
    "if response.status_code == 200:\n",
    "    with open(os.path.join(SMARTBUGS_DIR, \"smartbugs.json\"), \"w\") as f:\n",
    "        f.write(response.text)\n",
    "    print(\"SmartBugs dataset downloaded.\")\n",
    "else:\n",
    "    print(\"Failed to download SmartBugs dataset.\")"
   ]
  }
 ],
 "metadata": {
  "kernelspec": {
   "display_name": "base",
   "language": "python",
   "name": "python3"
  },
  "language_info": {
   "codemirror_mode": {
    "name": "ipython",
    "version": 3
   },
   "file_extension": ".py",
   "mimetype": "text/x-python",
   "name": "python",
   "nbconvert_exporter": "python",
   "pygments_lexer": "ipython3",
   "version": "3.11.4"
  }
 },
 "nbformat": 4,
 "nbformat_minor": 2
}
