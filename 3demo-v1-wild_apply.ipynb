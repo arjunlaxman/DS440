{
 "cells": [
  {
   "cell_type": "code",
   "execution_count": 2,
   "metadata": {},
   "outputs": [
    {
     "name": "stdout",
     "output_type": "stream",
     "text": [
      "CUDA available: True\n",
      "GPU detected: NVIDIA GeForce RTX 4090 Laptop GPU\n"
     ]
    }
   ],
   "source": [
    "import torch\n",
    "\n",
    "print(\"CUDA available:\", torch.cuda.is_available())\n",
    "if torch.cuda.is_available():\n",
    "    print(\"GPU detected:\", torch.cuda.get_device_name(0))\n",
    "else:\n",
    "    print(\"⚠️ No GPU detected.\")\n"
   ]
  },
  {
   "cell_type": "markdown",
   "metadata": {},
   "source": [
    "# Imports"
   ]
  },
  {
   "cell_type": "code",
   "execution_count": 3,
   "metadata": {},
   "outputs": [
    {
     "name": "stderr",
     "output_type": "stream",
     "text": [
      "d:\\new440\\.venv\\Lib\\site-packages\\tqdm\\auto.py:21: TqdmWarning: IProgress not found. Please update jupyter and ipywidgets. See https://ipywidgets.readthedocs.io/en/stable/user_install.html\n",
      "  from .autonotebook import tqdm as notebook_tqdm\n"
     ]
    }
   ],
   "source": [
    "import os\n",
    "import pandas as pd\n",
    "import torch\n",
    "from torch.utils.data import Dataset\n",
    "from transformers import RobertaTokenizer, RobertaForSequenceClassification, Trainer, TrainingArguments, EarlyStoppingCallback\n",
    "from sklearn.model_selection import train_test_split\n",
    "from tqdm import tqdm\n",
    "from sklearn.metrics import accuracy_score, f1_score, precision_score, recall_score, classification_report\n",
    "from torch.nn.functional import softmax\n",
    "import torch.nn as nn\n"
   ]
  },
  {
   "cell_type": "markdown",
   "metadata": {},
   "source": [
    "# Training"
   ]
  },
  {
   "cell_type": "code",
   "execution_count": 4,
   "metadata": {},
   "outputs": [
    {
     "name": "stderr",
     "output_type": "stream",
     "text": [
      "Loading Solidity files: 100%|██████████| 19456/19456 [00:01<00:00, 12257.01it/s]\n",
      "Some weights of RobertaForSequenceClassification were not initialized from the model checkpoint at microsoft/codebert-base and are newly initialized: ['classifier.dense.bias', 'classifier.dense.weight', 'classifier.out_proj.bias', 'classifier.out_proj.weight']\n",
      "You should probably TRAIN this model on a down-stream task to be able to use it for predictions and inference.\n",
      "d:\\new440\\.venv\\Lib\\site-packages\\transformers\\training_args.py:1611: FutureWarning: `evaluation_strategy` is deprecated and will be removed in version 4.46 of 🤗 Transformers. Use `eval_strategy` instead\n",
      "  warnings.warn(\n"
     ]
    },
    {
     "data": {
      "text/html": [
       "\n",
       "    <div>\n",
       "      \n",
       "      <progress value='5838' max='5838' style='width:300px; height:20px; vertical-align: middle;'></progress>\n",
       "      [5838/5838 10:56, Epoch 3/3]\n",
       "    </div>\n",
       "    <table border=\"1\" class=\"dataframe\">\n",
       "  <thead>\n",
       " <tr style=\"text-align: left;\">\n",
       "      <th>Step</th>\n",
       "      <th>Training Loss</th>\n",
       "      <th>Validation Loss</th>\n",
       "      <th>Accuracy</th>\n",
       "    </tr>\n",
       "  </thead>\n",
       "  <tbody>\n",
       "    <tr>\n",
       "      <td>4500</td>\n",
       "      <td>0.656800</td>\n",
       "      <td>0.643886</td>\n",
       "      <td>0.733299</td>\n",
       "    </tr>\n",
       "    <tr>\n",
       "      <td>5000</td>\n",
       "      <td>0.635800</td>\n",
       "      <td>0.651655</td>\n",
       "      <td>0.725591</td>\n",
       "    </tr>\n",
       "    <tr>\n",
       "      <td>5500</td>\n",
       "      <td>0.629800</td>\n",
       "      <td>0.656355</td>\n",
       "      <td>0.706835</td>\n",
       "    </tr>\n",
       "  </tbody>\n",
       "</table><p>"
      ],
      "text/plain": [
       "<IPython.core.display.HTML object>"
      ]
     },
     "metadata": {},
     "output_type": "display_data"
    },
    {
     "data": {
      "text/html": [],
      "text/plain": [
       "<IPython.core.display.HTML object>"
      ]
     },
     "metadata": {},
     "output_type": "display_data"
    },
    {
     "name": "stdout",
     "output_type": "stream",
     "text": [
      "              precision    recall  f1-score   support\n",
      "\n",
      "           0       0.82      0.46      0.59      2825\n",
      "           1       0.34      0.73      0.46      1067\n",
      "\n",
      "    accuracy                           0.53      3892\n",
      "   macro avg       0.58      0.59      0.52      3892\n",
      "weighted avg       0.69      0.53      0.55      3892\n",
      "\n"
     ]
    },
    {
     "data": {
      "text/html": [],
      "text/plain": [
       "<IPython.core.display.HTML object>"
      ]
     },
     "metadata": {},
     "output_type": "display_data"
    },
    {
     "name": "stdout",
     "output_type": "stream",
     "text": [
      "Evaluation results: {'eval_loss': 0.6438862681388855, 'eval_accuracy': 0.7332990750256937, 'eval_runtime': 52.3619, 'eval_samples_per_second': 74.329, 'eval_steps_per_second': 9.301, 'epoch': 3.0}\n"
     ]
    }
   ],
   "source": [
    "df = pd.read_csv(\"cgt-main/consolidated.csv\", sep=\";\")\n",
    "\n",
    "# check solidity exist, remove \"nan\" value\n",
    "def has_source(fp_sol):\n",
    "    sol_path = os.path.join(r\"D:\\new440\\cgt-main\\source\", f\"{fp_sol}.sol\")\n",
    "    return os.path.isfile(sol_path)\n",
    "\n",
    "df = df[df[\"fp_sol\"].apply(has_source)]\n",
    "\n",
    "# transfer property_holds to label： \"t\" -> 1， \"f\" -> 0\n",
    "df = df[df['property_holds'].isin(['t', 'f'])]\n",
    "df['label'] = df['property_holds'].map({'t': 1, 'f': 0})\n",
    "\n",
    "# read Solidity Source code, sol as txt\n",
    "def read_source(fp_sol):\n",
    "    sol_path = os.path.join(r\"D:\\new440\\cgt-main\\source\", f\"{fp_sol}.sol\")\n",
    "    try:\n",
    "        with open(sol_path, \"r\", encoding=\"utf-8\") as f:\n",
    "            return f.read()\n",
    "    except FileNotFoundError:\n",
    "        print(f\"file {sol_path} missing, continue\")\n",
    "        return \"\"\n",
    "\n",
    "df['code'] = df['fp_sol'].apply(read_source)\n",
    "\n",
    "# filter \"nan\" out，select code and label\n",
    "data = df.dropna(subset=['code', 'label'])\n",
    "data = data[data['code'] != \"\"]\n",
    "solidity_data = []\n",
    "for _, row in tqdm(data.iterrows(), total=len(data), desc=\"Loading Solidity files\"):\n",
    "    fp_sol = row[\"fp_sol\"]\n",
    "    sol_path = os.path.join(\"cgt-main\", \"source\", f\"{fp_sol}.sol\")\n",
    "    try:\n",
    "        with open(sol_path, \"r\", encoding=\"utf-8\") as f:\n",
    "            code = f.read()\n",
    "        solidity_data.append({\n",
    "            \"contract_name\": row[\"contractname\"],\n",
    "            \"code\": code,\n",
    "            \"bug_type\": row[\"property\"],\n",
    "            \"swc_id\": row[\"swc\"],\n",
    "            \"dasp_id\": row[\"dasp\"]\n",
    "        })\n",
    "    except FileNotFoundError:\n",
    "        pass\n",
    "        \n",
    "# JSON file saved\n",
    "df_solidity = pd.DataFrame(solidity_data)\n",
    "df_solidity.to_json(\"aaaaa.json\", indent=4)\n",
    "\n",
    "# train-validate separate\n",
    "train_texts, val_texts, train_labels, val_labels = train_test_split(\n",
    "    data['code'].tolist(), data['label'].tolist(), test_size=0.2, random_state=42\n",
    ")\n",
    "\n",
    "def compute_metrics(eval_pred):\n",
    "    logits, labels = eval_pred\n",
    "    predictions = logits.argmax(axis=-1)\n",
    "    return {\n",
    "        \"accuracy\": accuracy_score(labels, predictions)\n",
    "    }\n",
    "\n",
    "# define PyTorch Dataset class\n",
    "class SolidityDataset(Dataset):\n",
    "    def __init__(self, texts, labels, tokenizer, max_length=512):\n",
    "        self.texts = texts\n",
    "        self.labels = labels\n",
    "        self.tokenizer = tokenizer\n",
    "        self.max_length = max_length\n",
    "\n",
    "    def __len__(self):\n",
    "        return len(self.texts)\n",
    "    \n",
    "    def __getitem__(self, idx):\n",
    "        text = self.texts[idx]\n",
    "        # auto cut code lenth\n",
    "        encoding = self.tokenizer(\n",
    "            text,\n",
    "            truncation=True,\n",
    "            padding='max_length',\n",
    "            max_length=self.max_length,\n",
    "            return_tensors=\"pt\"\n",
    "        )\n",
    "        item = {key: val.squeeze(0) for key, val in encoding.items()}\n",
    "        item['labels'] = torch.tensor(self.labels[idx], dtype=torch.long)\n",
    "        return item\n",
    "\n",
    "# Define weighted loss inside a custom Trainer\n",
    "class WeightedTrainer(Trainer):\n",
    "    def compute_loss(self, model, inputs, return_outputs=False, **kwargs):\n",
    "        labels = inputs.get(\"labels\")\n",
    "        outputs = model(**inputs)\n",
    "        logits = outputs.get(\"logits\")\n",
    "\n",
    "        # Manually set class weights here\n",
    "        weight = torch.tensor([1.0, 2.5]).to(logits.device)\n",
    "        loss_fct = nn.CrossEntropyLoss(weight=weight)\n",
    "        loss = loss_fct(logits, labels)\n",
    "\n",
    "        return (loss, outputs) if return_outputs else loss\n",
    "\n",
    "\n",
    "# load CodeBERT tokenizer and model form（microsoft/codebert-base）\n",
    "model_name = \"microsoft/codebert-base\"\n",
    "tokenizer = RobertaTokenizer.from_pretrained(model_name)\n",
    "model = RobertaForSequenceClassification.from_pretrained(model_name, num_labels=2)\n",
    "\n",
    "# !!!!!!!!!!!!!!!!!!!!!!! need further explore\n",
    "train_dataset = SolidityDataset(train_texts, train_labels, tokenizer)\n",
    "val_dataset = SolidityDataset(val_texts, val_labels, tokenizer)\n",
    "\n",
    "# Trainer define and tune\n",
    "training_args = TrainingArguments(\n",
    "    output_dir=\"./codebert-finetuned\",  \n",
    "    num_train_epochs=3,\n",
    "    per_device_train_batch_size=8,\n",
    "    per_device_eval_batch_size=8,\n",
    "    evaluation_strategy=\"steps\",\n",
    "    eval_steps=500,\n",
    "    save_steps=500,\n",
    "    warmup_steps=100,\n",
    "    weight_decay=0.01,\n",
    "    learning_rate=2e-5,\n",
    "    logging_dir='./logs',\n",
    "    logging_steps=100,\n",
    "    save_total_limit=15,\n",
    "    disable_tqdm=False,\n",
    "    load_best_model_at_end=True,\n",
    "    metric_for_best_model=\"eval_accuracy\",\n",
    "    greater_is_better=True\n",
    ")\n",
    "\n",
    "trainer = WeightedTrainer(\n",
    "    model=model,\n",
    "    args=training_args,\n",
    "    train_dataset=train_dataset,\n",
    "    eval_dataset=val_dataset,\n",
    "    compute_metrics=compute_metrics,\n",
    "    #callbacks=[EarlyStoppingCallback(early_stopping_patience=2)]\n",
    ")\n",
    "\n",
    "device = torch.device(\"cuda\" if torch.cuda.is_available() else \"cpu\")\n",
    "model.to(device)\n",
    "\n",
    "# TRAINING\n",
    "#trainer.train()\n",
    "trainer.train(resume_from_checkpoint=\"./codebert-finetuned/checkpoint-4000\")\n",
    "\n",
    "predictions = trainer.predict(val_dataset)\n",
    "logits = predictions.predictions\n",
    "labels = predictions.label_ids\n",
    "\n",
    "# Use custom threshold on softmax probs\n",
    "probs = softmax(torch.tensor(logits), dim=1).numpy()\n",
    "custom_preds = (probs[:, 1] > 0.4).astype(int)  # try 0.4 or lower\n",
    "\n",
    "print(classification_report(labels, custom_preds, zero_division=0))\n",
    "\n",
    "# Show result\n",
    "eval_result = trainer.evaluate()\n",
    "print(\"Evaluation results:\", eval_result)"
   ]
  },
  {
   "cell_type": "markdown",
   "metadata": {},
   "source": [
    "# Testing"
   ]
  },
  {
   "cell_type": "code",
   "execution_count": 6,
   "metadata": {},
   "outputs": [
    {
     "data": {
      "text/html": [],
      "text/plain": [
       "<IPython.core.display.HTML object>"
      ]
     },
     "metadata": {},
     "output_type": "display_data"
    },
    {
     "name": "stdout",
     "output_type": "stream",
     "text": [
      "              precision    recall  f1-score   support\n",
      "\n",
      "           0       0.77      0.89      0.83      2825\n",
      "           1       0.52      0.31      0.39      1067\n",
      "\n",
      "    accuracy                           0.73      3892\n",
      "   macro avg       0.65      0.60      0.61      3892\n",
      "weighted avg       0.71      0.73      0.71      3892\n",
      "\n"
     ]
    }
   ],
   "source": [
    "predictions = trainer.predict(val_dataset)\n",
    "preds = predictions.predictions.argmax(axis=-1)\n",
    "true_labels = predictions.label_ids\n",
    "\n",
    "# Generate classification report\n",
    "report = classification_report(true_labels, preds)\n",
    "print(report)"
   ]
  },
  {
   "cell_type": "code",
   "execution_count": 7,
   "metadata": {},
   "outputs": [],
   "source": [
    "trainer.save_model(\"best-codebert-model\")"
   ]
  },
  {
   "cell_type": "code",
   "execution_count": null,
   "metadata": {},
   "outputs": [
    {
     "name": "stderr",
     "output_type": "stream",
     "text": [
      "Predicting contracts:   4%|▍         | 2008/47398 [00:44<14:13, 53.21it/s]"
     ]
    },
    {
     "name": "stdout",
     "output_type": "stream",
     "text": [
      "Saved 2000 predictions so far to smartbugs_predictions.csv\n"
     ]
    },
    {
     "name": "stderr",
     "output_type": "stream",
     "text": [
      "Predicting contracts:   8%|▊         | 4005/47398 [01:21<12:57, 55.82it/s]"
     ]
    },
    {
     "name": "stdout",
     "output_type": "stream",
     "text": [
      "Saved 4000 predictions so far to smartbugs_predictions.csv\n"
     ]
    },
    {
     "name": "stderr",
     "output_type": "stream",
     "text": [
      "Predicting contracts:  13%|█▎        | 6008/47398 [01:59<11:49, 58.37it/s]"
     ]
    },
    {
     "name": "stdout",
     "output_type": "stream",
     "text": [
      "Saved 6000 predictions so far to smartbugs_predictions.csv\n"
     ]
    },
    {
     "name": "stderr",
     "output_type": "stream",
     "text": [
      "Predicting contracts:  17%|█▋        | 8001/47398 [02:40<11:42, 56.10it/s]"
     ]
    },
    {
     "name": "stdout",
     "output_type": "stream",
     "text": [
      "Saved 8000 predictions so far to smartbugs_predictions.csv\n"
     ]
    },
    {
     "name": "stderr",
     "output_type": "stream",
     "text": [
      "Predicting contracts:  21%|██        | 10011/47398 [03:22<10:40, 58.39it/s]"
     ]
    },
    {
     "name": "stdout",
     "output_type": "stream",
     "text": [
      "Saved 10000 predictions so far to smartbugs_predictions.csv\n"
     ]
    },
    {
     "name": "stderr",
     "output_type": "stream",
     "text": [
      "Predicting contracts:  25%|██▌       | 12010/47398 [04:03<09:55, 59.46it/s]"
     ]
    },
    {
     "name": "stdout",
     "output_type": "stream",
     "text": [
      "Saved 12000 predictions so far to smartbugs_predictions.csv\n"
     ]
    },
    {
     "name": "stderr",
     "output_type": "stream",
     "text": [
      "Predicting contracts:  30%|██▉       | 14002/47398 [05:37<26:10, 21.27it/s]  "
     ]
    },
    {
     "name": "stdout",
     "output_type": "stream",
     "text": [
      "Saved 14000 predictions so far to smartbugs_predictions.csv\n"
     ]
    },
    {
     "name": "stderr",
     "output_type": "stream",
     "text": [
      "Predicting contracts:  34%|███▍      | 16004/47398 [07:04<21:44, 24.07it/s]  "
     ]
    },
    {
     "name": "stdout",
     "output_type": "stream",
     "text": [
      "Saved 16000 predictions so far to smartbugs_predictions.csv\n"
     ]
    },
    {
     "name": "stderr",
     "output_type": "stream",
     "text": [
      "Predicting contracts:  38%|███▊      | 18004/47398 [08:33<25:06, 19.51it/s]  "
     ]
    },
    {
     "name": "stdout",
     "output_type": "stream",
     "text": [
      "Saved 18000 predictions so far to smartbugs_predictions.csv\n"
     ]
    },
    {
     "name": "stderr",
     "output_type": "stream",
     "text": [
      "Predicting contracts:  42%|████▏     | 20003/47398 [09:58<18:52, 24.19it/s]  "
     ]
    },
    {
     "name": "stdout",
     "output_type": "stream",
     "text": [
      "Saved 20000 predictions so far to smartbugs_predictions.csv\n"
     ]
    },
    {
     "name": "stderr",
     "output_type": "stream",
     "text": [
      "Predicting contracts:  46%|████▋     | 22005/47398 [11:27<17:33, 24.11it/s]"
     ]
    },
    {
     "name": "stdout",
     "output_type": "stream",
     "text": [
      "Saved 22000 predictions so far to smartbugs_predictions.csv\n"
     ]
    },
    {
     "name": "stderr",
     "output_type": "stream",
     "text": [
      "Predicting contracts:  51%|█████     | 24003/47398 [12:59<21:30, 18.13it/s]  "
     ]
    },
    {
     "name": "stdout",
     "output_type": "stream",
     "text": [
      "Saved 24000 predictions so far to smartbugs_predictions.csv\n"
     ]
    },
    {
     "name": "stderr",
     "output_type": "stream",
     "text": [
      "Predicting contracts:  55%|█████▍    | 26004/47398 [14:31<15:12, 23.44it/s]"
     ]
    },
    {
     "name": "stdout",
     "output_type": "stream",
     "text": [
      "Saved 26000 predictions so far to smartbugs_predictions.csv\n"
     ]
    },
    {
     "name": "stderr",
     "output_type": "stream",
     "text": [
      "Predicting contracts:  59%|█████▉    | 28004/47398 [15:59<17:02, 18.96it/s]"
     ]
    },
    {
     "name": "stdout",
     "output_type": "stream",
     "text": [
      "Saved 28000 predictions so far to smartbugs_predictions.csv\n"
     ]
    },
    {
     "name": "stderr",
     "output_type": "stream",
     "text": [
      "Predicting contracts:  63%|██████▎   | 30001/47398 [17:27<14:19, 20.23it/s]"
     ]
    },
    {
     "name": "stdout",
     "output_type": "stream",
     "text": [
      "Saved 30000 predictions so far to smartbugs_predictions.csv\n"
     ]
    },
    {
     "name": "stderr",
     "output_type": "stream",
     "text": [
      "Predicting contracts:  68%|██████▊   | 32002/47398 [18:53<13:19, 19.25it/s]"
     ]
    },
    {
     "name": "stdout",
     "output_type": "stream",
     "text": [
      "Saved 32000 predictions so far to smartbugs_predictions.csv\n"
     ]
    },
    {
     "name": "stderr",
     "output_type": "stream",
     "text": [
      "Predicting contracts:  72%|███████▏  | 34002/47398 [20:21<11:25, 19.53it/s]"
     ]
    },
    {
     "name": "stdout",
     "output_type": "stream",
     "text": [
      "Saved 34000 predictions so far to smartbugs_predictions.csv\n"
     ]
    },
    {
     "name": "stderr",
     "output_type": "stream",
     "text": [
      "Predicting contracts:  76%|███████▌  | 36005/47398 [21:51<08:10, 23.24it/s]"
     ]
    },
    {
     "name": "stdout",
     "output_type": "stream",
     "text": [
      "Saved 36000 predictions so far to smartbugs_predictions.csv\n"
     ]
    },
    {
     "name": "stderr",
     "output_type": "stream",
     "text": [
      "Predicting contracts:  80%|████████  | 38003/47398 [23:20<07:34, 20.66it/s]"
     ]
    },
    {
     "name": "stdout",
     "output_type": "stream",
     "text": [
      "Saved 38000 predictions so far to smartbugs_predictions.csv\n"
     ]
    },
    {
     "name": "stderr",
     "output_type": "stream",
     "text": [
      "Predicting contracts:  84%|████████▍ | 40002/47398 [24:50<06:46, 18.18it/s]"
     ]
    },
    {
     "name": "stdout",
     "output_type": "stream",
     "text": [
      "Saved 40000 predictions so far to smartbugs_predictions.csv\n"
     ]
    },
    {
     "name": "stderr",
     "output_type": "stream",
     "text": [
      "Predicting contracts:  89%|████████▊ | 42004/47398 [26:17<03:32, 25.41it/s]"
     ]
    },
    {
     "name": "stdout",
     "output_type": "stream",
     "text": [
      "Saved 42000 predictions so far to smartbugs_predictions.csv\n"
     ]
    },
    {
     "name": "stderr",
     "output_type": "stream",
     "text": [
      "Predicting contracts:  93%|█████████▎| 44002/47398 [27:47<03:03, 18.47it/s]"
     ]
    },
    {
     "name": "stdout",
     "output_type": "stream",
     "text": [
      "Saved 44000 predictions so far to smartbugs_predictions.csv\n"
     ]
    },
    {
     "name": "stderr",
     "output_type": "stream",
     "text": [
      "Predicting contracts:  97%|█████████▋| 46004/47398 [29:10<01:13, 18.92it/s]"
     ]
    },
    {
     "name": "stdout",
     "output_type": "stream",
     "text": [
      "Saved 46000 predictions so far to smartbugs_predictions.csv\n"
     ]
    },
    {
     "name": "stderr",
     "output_type": "stream",
     "text": [
      "Predicting contracts: 100%|██████████| 47398/47398 [30:09<00:00, 26.19it/s]\n"
     ]
    },
    {
     "name": "stdout",
     "output_type": "stream",
     "text": [
      "Saved all 47398 predictions to smartbugs_predictions.csv\n"
     ]
    }
   ],
   "source": [
    "import os\n",
    "import glob\n",
    "import pandas as pd\n",
    "import torch\n",
    "from transformers import RobertaTokenizer, RobertaForSequenceClassification\n",
    "from torch.nn.functional import softmax\n",
    "from tqdm import tqdm\n",
    "\n",
    "def main():\n",
    "    MODEL_DIR     = \"best-codebert-model\"               \n",
    "    CONTRACTS_DIR = \"smartbugs-wild-master/contracts\"  \n",
    "    OUTPUT_CSV    = \"smartbugs_predictions.csv\"        \n",
    "    THRESHOLD     = 0.4                                 \n",
    "    SAVE_INTERVAL = 2000                                 \n",
    "\n",
    "    \n",
    "    device = torch.device(\"cuda\" if torch.cuda.is_available() else \"cpu\")\n",
    "\n",
    "    tokenizer = RobertaTokenizer.from_pretrained(\"microsoft/codebert-base\")\n",
    "    model     = RobertaForSequenceClassification.from_pretrained(MODEL_DIR)\n",
    "    model.to(device).eval()\n",
    "    file_paths = glob.glob(os.path.join(CONTRACTS_DIR, \"*.sol\"))\n",
    "    results = []\n",
    "\n",
    "\n",
    "    for idx, path in enumerate(tqdm(file_paths, desc=\"Predicting contracts\")):\n",
    "        with open(path, \"r\", encoding=\"utf-8\") as f:\n",
    "            code = f.read()\n",
    "        encoding = tokenizer(\n",
    "            code,\n",
    "            truncation=True,\n",
    "            padding=\"max_length\",\n",
    "            max_length=512,\n",
    "            return_tensors=\"pt\"\n",
    "        ).to(device)\n",
    "\n",
    "\n",
    "        with torch.no_grad():\n",
    "            outputs = model(**encoding)\n",
    "        logits = outputs.logits\n",
    "        probs  = softmax(logits, dim=-1).cpu().numpy()[0]\n",
    "\n",
    "        pred_argmax = int(probs.argmax())\n",
    "        pred_thresh = int(probs[1] > THRESHOLD)\n",
    "\n",
    "        results.append({\n",
    "            \"file\":          os.path.basename(path),\n",
    "            \"prob_no_bug\":   float(probs[0]),\n",
    "            \"prob_bug\":      float(probs[1]),\n",
    "            \"pred_argmax\":   pred_argmax,\n",
    "            \"pred_thresh\":   pred_thresh\n",
    "        })\n",
    "\n",
    "        if (idx + 1) % SAVE_INTERVAL == 0:\n",
    "            pd.DataFrame(results).to_csv(OUTPUT_CSV, index=False)\n",
    "            print(f\"Saved {idx+1} predictions so far to {OUTPUT_CSV}\")\n",
    "\n",
    "    pd.DataFrame(results).to_csv(OUTPUT_CSV, index=False)\n",
    "    print(f\"Saved all {len(results)} predictions to {OUTPUT_CSV}\")\n",
    "\n",
    "if __name__ == \"__main__\":\n",
    "    main()\n"
   ]
  },
  {
   "cell_type": "code",
   "execution_count": 3,
   "metadata": {},
   "outputs": [
    {
     "name": "stdout",
     "output_type": "stream",
     "text": [
      "Total contrast: 47398\n",
      "Prediced valnerable: 33679\n",
      "Percentage: 71.06%\n"
     ]
    }
   ],
   "source": [
    "import pandas as pd\n",
    "\n",
    "df = pd.read_csv(\"smartbugs_predictions.csv\")\n",
    "\n",
    "total = len(df)\n",
    "\n",
    "num_bug = int(df[\"pred_thresh\"].sum())\n",
    "\n",
    "print(f\"Total contrast: {total}\")\n",
    "print(f\"Prediced valnerable: {num_bug}\")\n",
    "print(f\"Percentage: {num_bug/total:.2%}\")\n"
   ]
  }
 ],
 "metadata": {
  "kernelspec": {
   "display_name": ".venv",
   "language": "python",
   "name": "python3"
  },
  "language_info": {
   "codemirror_mode": {
    "name": "ipython",
    "version": 3
   },
   "file_extension": ".py",
   "mimetype": "text/x-python",
   "name": "python",
   "nbconvert_exporter": "python",
   "pygments_lexer": "ipython3",
   "version": "3.13.2"
  }
 },
 "nbformat": 4,
 "nbformat_minor": 2
}
