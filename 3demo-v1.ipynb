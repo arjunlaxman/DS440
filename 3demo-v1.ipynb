{
 "cells": [
  {
   "cell_type": "code",
   "execution_count": 2,
   "metadata": {},
   "outputs": [
    {
     "name": "stdout",
     "output_type": "stream",
     "text": [
      "CUDA available: True\n",
      "GPU detected: NVIDIA GeForce RTX 2080 Super with Max-Q Design\n"
     ]
    }
   ],
   "source": [
    "import torch\n",
    "\n",
    "print(\"CUDA available:\", torch.cuda.is_available())\n",
    "if torch.cuda.is_available():\n",
    "    print(\"GPU detected:\", torch.cuda.get_device_name(0))\n",
    "else:\n",
    "    print(\"⚠️ No GPU detected.\")\n"
   ]
  },
  {
   "cell_type": "markdown",
   "metadata": {},
   "source": [
    "# Imports"
   ]
  },
  {
   "cell_type": "code",
   "execution_count": 19,
   "metadata": {},
   "outputs": [],
   "source": [
    "import os\n",
    "import pandas as pd\n",
    "import torch\n",
    "from torch.utils.data import Dataset\n",
    "from transformers import RobertaTokenizer, RobertaForSequenceClassification, Trainer, TrainingArguments, EarlyStoppingCallback\n",
    "from sklearn.model_selection import train_test_split\n",
    "from tqdm import tqdm\n",
    "from sklearn.metrics import accuracy_score, f1_score, precision_score, recall_score, classification_report\n",
    "from torch.nn.functional import softmax\n"
   ]
  },
  {
   "cell_type": "markdown",
   "metadata": {},
   "source": [
    "# Training"
   ]
  },
  {
   "cell_type": "code",
   "execution_count": 20,
   "metadata": {},
   "outputs": [
    {
     "name": "stderr",
     "output_type": "stream",
     "text": [
      "Loading Solidity files: 100%|██████████| 19456/19456 [00:01<00:00, 10014.71it/s]\n",
      "Some weights of RobertaForSequenceClassification were not initialized from the model checkpoint at microsoft/codebert-base and are newly initialized: ['classifier.dense.bias', 'classifier.dense.weight', 'classifier.out_proj.bias', 'classifier.out_proj.weight']\n",
      "You should probably TRAIN this model on a down-stream task to be able to use it for predictions and inference.\n",
      "c:\\Users\\dafel\\anaconda3\\Lib\\site-packages\\transformers\\training_args.py:1594: FutureWarning: `evaluation_strategy` is deprecated and will be removed in version 4.46 of 🤗 Transformers. Use `eval_strategy` instead\n",
      "  warnings.warn(\n"
     ]
    },
    {
     "data": {
      "text/html": [
       "\n",
       "    <div>\n",
       "      \n",
       "      <progress value='2500' max='5838' style='width:300px; height:20px; vertical-align: middle;'></progress>\n",
       "      [2500/5838 36:50 < 49:14, 1.13 it/s, Epoch 1/3]\n",
       "    </div>\n",
       "    <table border=\"1\" class=\"dataframe\">\n",
       "  <thead>\n",
       " <tr style=\"text-align: left;\">\n",
       "      <th>Step</th>\n",
       "      <th>Training Loss</th>\n",
       "      <th>Validation Loss</th>\n",
       "      <th>Accuracy</th>\n",
       "    </tr>\n",
       "  </thead>\n",
       "  <tbody>\n",
       "    <tr>\n",
       "      <td>500</td>\n",
       "      <td>0.698300</td>\n",
       "      <td>0.684771</td>\n",
       "      <td>0.725848</td>\n",
       "    </tr>\n",
       "    <tr>\n",
       "      <td>1000</td>\n",
       "      <td>0.669800</td>\n",
       "      <td>0.651669</td>\n",
       "      <td>0.672148</td>\n",
       "    </tr>\n",
       "    <tr>\n",
       "      <td>1500</td>\n",
       "      <td>0.662100</td>\n",
       "      <td>0.647318</td>\n",
       "      <td>0.744090</td>\n",
       "    </tr>\n",
       "    <tr>\n",
       "      <td>2000</td>\n",
       "      <td>0.632200</td>\n",
       "      <td>0.640710</td>\n",
       "      <td>0.742549</td>\n",
       "    </tr>\n",
       "    <tr>\n",
       "      <td>2500</td>\n",
       "      <td>0.660900</td>\n",
       "      <td>0.639613</td>\n",
       "      <td>0.743063</td>\n",
       "    </tr>\n",
       "  </tbody>\n",
       "</table><p>"
      ],
      "text/plain": [
       "<IPython.core.display.HTML object>"
      ]
     },
     "metadata": {},
     "output_type": "display_data"
    },
    {
     "data": {
      "text/html": [],
      "text/plain": [
       "<IPython.core.display.HTML object>"
      ]
     },
     "metadata": {},
     "output_type": "display_data"
    },
    {
     "name": "stdout",
     "output_type": "stream",
     "text": [
      "              precision    recall  f1-score   support\n",
      "\n",
      "           0       0.81      0.61      0.70      2825\n",
      "           1       0.37      0.61      0.46      1067\n",
      "\n",
      "    accuracy                           0.61      3892\n",
      "   macro avg       0.59      0.61      0.58      3892\n",
      "weighted avg       0.69      0.61      0.63      3892\n",
      "\n"
     ]
    },
    {
     "data": {
      "text/html": [],
      "text/plain": [
       "<IPython.core.display.HTML object>"
      ]
     },
     "metadata": {},
     "output_type": "display_data"
    },
    {
     "name": "stdout",
     "output_type": "stream",
     "text": [
      "Evaluation results: {'eval_loss': 0.6473181247711182, 'eval_accuracy': 0.7440904419321686, 'eval_runtime': 137.6695, 'eval_samples_per_second': 28.271, 'eval_steps_per_second': 3.537, 'epoch': 1.2846865364850977}\n"
     ]
    }
   ],
   "source": [
    "df = pd.read_csv(\"consolidated.csv\", sep=\";\")\n",
    "\n",
    "# check solidity exist, remove \"nan\" value\n",
    "def has_source(fp_sol):\n",
    "    sol_path = os.path.join(r\"C:\\Users\\dafel\\OneDrive - The Pennsylvania State University\\Y4S2\\DS 440\\source\", f\"{fp_sol}.sol\")\n",
    "    return os.path.isfile(sol_path)\n",
    "\n",
    "df = df[df[\"fp_sol\"].apply(has_source)]\n",
    "\n",
    "# transfer property_holds to label： \"t\" -> 1， \"f\" -> 0\n",
    "df = df[df['property_holds'].isin(['t', 'f'])]\n",
    "df['label'] = df['property_holds'].map({'t': 1, 'f': 0})\n",
    "\n",
    "# read Solidity Source code, sol as txt\n",
    "def read_source(fp_sol):\n",
    "    sol_path = os.path.join(r\"C:\\Users\\dafel\\OneDrive - The Pennsylvania State University\\Y4S2\\DS 440\\source\", f\"{fp_sol}.sol\")\n",
    "    try:\n",
    "        with open(sol_path, \"r\", encoding=\"utf-8\") as f:\n",
    "            return f.read()\n",
    "    except FileNotFoundError:\n",
    "        print(f\"file {sol_path} missing, continue\")\n",
    "        return \"\"\n",
    "\n",
    "df['code'] = df['fp_sol'].apply(read_source)\n",
    "\n",
    "# filter \"nan\" out，select code and label\n",
    "data = df.dropna(subset=['code', 'label'])\n",
    "data = data[data['code'] != \"\"]\n",
    "solidity_data = []\n",
    "for _, row in tqdm(data.iterrows(), total=len(data), desc=\"Loading Solidity files\"):\n",
    "    fp_sol = row[\"fp_sol\"]\n",
    "    sol_path = os.path.join(\"cgt-main\", \"source\", f\"{fp_sol}.sol\")\n",
    "    try:\n",
    "        with open(sol_path, \"r\", encoding=\"utf-8\") as f:\n",
    "            code = f.read()\n",
    "        solidity_data.append({\n",
    "            \"contract_name\": row[\"contractname\"],\n",
    "            \"code\": code,\n",
    "            \"bug_type\": row[\"property\"],\n",
    "            \"swc_id\": row[\"swc\"],\n",
    "            \"dasp_id\": row[\"dasp\"]\n",
    "        })\n",
    "    except FileNotFoundError:\n",
    "        pass\n",
    "        \n",
    "# JSON file saved\n",
    "df_solidity = pd.DataFrame(solidity_data)\n",
    "df_solidity.to_json(\"aaaaa.json\", indent=4)\n",
    "\n",
    "# train-validate separate\n",
    "train_texts, val_texts, train_labels, val_labels = train_test_split(\n",
    "    data['code'].tolist(), data['label'].tolist(), test_size=0.2, random_state=42\n",
    ")\n",
    "\n",
    "def compute_metrics(eval_pred):\n",
    "    logits, labels = eval_pred\n",
    "    predictions = logits.argmax(axis=-1)\n",
    "    return {\n",
    "        \"accuracy\": accuracy_score(labels, predictions)\n",
    "    }\n",
    "\n",
    "# define PyTorch Dataset class\n",
    "class SolidityDataset(Dataset):\n",
    "    def __init__(self, texts, labels, tokenizer, max_length=512):\n",
    "        self.texts = texts\n",
    "        self.labels = labels\n",
    "        self.tokenizer = tokenizer\n",
    "        self.max_length = max_length\n",
    "\n",
    "    def __len__(self):\n",
    "        return len(self.texts)\n",
    "    \n",
    "    def __getitem__(self, idx):\n",
    "        text = self.texts[idx]\n",
    "        # auto cut code lenth\n",
    "        encoding = self.tokenizer(\n",
    "            text,\n",
    "            truncation=True,\n",
    "            padding='max_length',\n",
    "            max_length=self.max_length,\n",
    "            return_tensors=\"pt\"\n",
    "        )\n",
    "        item = {key: val.squeeze(0) for key, val in encoding.items()}\n",
    "        item['labels'] = torch.tensor(self.labels[idx], dtype=torch.long)\n",
    "        return item\n",
    "\n",
    "# Define weighted loss inside a custom Trainer\n",
    "class WeightedTrainer(Trainer):\n",
    "    def compute_loss(self, model, inputs, return_outputs=False, **kwargs):\n",
    "        labels = inputs.get(\"labels\")\n",
    "        outputs = model(**inputs)\n",
    "        logits = outputs.get(\"logits\")\n",
    "\n",
    "        # Manually set class weights here\n",
    "        weight = torch.tensor([1.0, 2.5]).to(logits.device)\n",
    "        loss_fct = nn.CrossEntropyLoss(weight=weight)\n",
    "        loss = loss_fct(logits, labels)\n",
    "\n",
    "        return (loss, outputs) if return_outputs else loss\n",
    "\n",
    "\n",
    "# load CodeBERT tokenizer and model form（microsoft/codebert-base）\n",
    "model_name = \"microsoft/codebert-base\"\n",
    "tokenizer = RobertaTokenizer.from_pretrained(model_name)\n",
    "model = RobertaForSequenceClassification.from_pretrained(model_name, num_labels=2)\n",
    "\n",
    "# !!!!!!!!!!!!!!!!!!!!!!! need further explore\n",
    "train_dataset = SolidityDataset(train_texts, train_labels, tokenizer)\n",
    "val_dataset = SolidityDataset(val_texts, val_labels, tokenizer)\n",
    "\n",
    "# Trainer define and tune\n",
    "training_args = TrainingArguments(\n",
    "    output_dir=\"./codebert-finetuned\",  \n",
    "    num_train_epochs=3,\n",
    "    per_device_train_batch_size=8,\n",
    "    per_device_eval_batch_size=8,\n",
    "    evaluation_strategy=\"steps\",\n",
    "    eval_steps=500,\n",
    "    save_steps=500,\n",
    "    warmup_steps=100,\n",
    "    weight_decay=0.01,\n",
    "    learning_rate=2e-5,\n",
    "    logging_dir='./logs',\n",
    "    logging_steps=100,\n",
    "    save_total_limit=2,\n",
    "    disable_tqdm=False,\n",
    "    load_best_model_at_end=True,\n",
    "    metric_for_best_model=\"eval_accuracy\",\n",
    "    greater_is_better=True\n",
    ")\n",
    "\n",
    "trainer = WeightedTrainer(\n",
    "    model=model,\n",
    "    args=training_args,\n",
    "    train_dataset=train_dataset,\n",
    "    eval_dataset=val_dataset,\n",
    "    compute_metrics=compute_metrics,\n",
    "    callbacks=[EarlyStoppingCallback(early_stopping_patience=2)]\n",
    ")\n",
    "\n",
    "device = torch.device(\"cuda\" if torch.cuda.is_available() else \"cpu\")\n",
    "model.to(device)\n",
    "\n",
    "# TRAINING\n",
    "trainer.train()\n",
    "\n",
    "predictions = trainer.predict(val_dataset)\n",
    "logits = predictions.predictions\n",
    "labels = predictions.label_ids\n",
    "\n",
    "# Use custom threshold on softmax probs\n",
    "probs = softmax(torch.tensor(logits), dim=1).numpy()\n",
    "custom_preds = (probs[:, 1] > 0.4).astype(int)  # try 0.4 or lower\n",
    "\n",
    "print(classification_report(labels, custom_preds, zero_division=0))\n",
    "\n",
    "# Show result\n",
    "eval_result = trainer.evaluate()\n",
    "print(\"Evaluation results:\", eval_result)"
   ]
  },
  {
   "cell_type": "markdown",
   "metadata": {},
   "source": [
    "# Testing"
   ]
  },
  {
   "cell_type": "code",
   "execution_count": 21,
   "metadata": {},
   "outputs": [
    {
     "name": "stdout",
     "output_type": "stream",
     "text": [
      "              precision    recall  f1-score   support\n",
      "\n",
      "           0       0.74      0.98      0.85      2825\n",
      "           1       0.73      0.11      0.19      1067\n",
      "\n",
      "    accuracy                           0.74      3892\n",
      "   macro avg       0.74      0.55      0.52      3892\n",
      "weighted avg       0.74      0.74      0.67      3892\n",
      "\n"
     ]
    }
   ],
   "source": [
    "predictions = trainer.predict(val_dataset)\n",
    "preds = predictions.predictions.argmax(axis=-1)\n",
    "true_labels = predictions.label_ids\n",
    "\n",
    "# Generate classification report\n",
    "report = classification_report(true_labels, preds)\n",
    "print(report)"
   ]
  }
 ],
 "metadata": {
  "kernelspec": {
   "display_name": "base",
   "language": "python",
   "name": "python3"
  },
  "language_info": {
   "codemirror_mode": {
    "name": "ipython",
    "version": 3
   },
   "file_extension": ".py",
   "mimetype": "text/x-python",
   "name": "python",
   "nbconvert_exporter": "python",
   "pygments_lexer": "ipython3",
   "version": "3.11.4"
  }
 },
 "nbformat": 4,
 "nbformat_minor": 2
}
